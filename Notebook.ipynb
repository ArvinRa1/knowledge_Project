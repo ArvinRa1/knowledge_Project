{
  "nbformat": 4,
  "nbformat_minor": 0,
  "metadata": {
    "colab": {
      "name": "Knowledge_Project_Final_Version_for_submitting.ipynb",
      "provenance": [],
      "collapsed_sections": []
    },
    "kernelspec": {
      "display_name": "Python 3",
      "name": "python3"
    },
    "language_info": {
      "name": "python"
    }
  },
  "cells": [
    {
      "cell_type": "markdown",
      "source": [
        "# Importing Libararies\n"
      ],
      "metadata": {
        "id": "z3Md0WdYil5d"
      }
    },
    {
      "cell_type": "code",
      "metadata": {
        "id": "ltlhR2CAUJ9R"
      },
      "source": [
        "from sympy import *\n",
        "import random\n",
        "import sys\n",
        "import numpy as np\n",
        "import itertools\n",
        "from scipy.stats import expon"
      ],
      "execution_count": 167,
      "outputs": []
    },
    {
      "cell_type": "markdown",
      "source": [
        "# Input of the algorithms"
      ],
      "metadata": {
        "id": "G_14S8htivLi"
      }
    },
    {
      "cell_type": "code",
      "source": [
        "#input = \" (~a) & (b | a) & (~c | ~b) & (~c) & (~c | d) & (~e | ~a )\" ## answer is 4, d = 2, e = 2\n",
        "input = \" (~a) & (~c | ~b) & (~c) & (c | d) & (~e | ~a )\" ## answer is 4, d = 2, e = 2, b = 2\n",
        "#input =\" (~a) & (b | a) & (~c | ~b) & (~c) & (~c | d) & (~e | ~a) & (~f) & (~f | g)\" ## answer is 8, d = 2, e = 2, g = 2\n",
        "#input = \" (~a) & (b | a) & (c | ~b) & (c) & (~c | d) & (e | ~a) & (f) & (~f | g) \" ## The answer is 2\n",
        "#input = \" (~a) & (b | a) & (c | ~b) & (c) & (~c | d) & (e | a) & (f) & (~f | g) \" ## The answer is 1"
      ],
      "metadata": {
        "id": "fSefj8Xgrm6F"
      },
      "execution_count": 168,
      "outputs": []
    },
    {
      "cell_type": "markdown",
      "source": [
        "# Pre-processing of the input"
      ],
      "metadata": {
        "id": "pDrG2TspkhFT"
      }
    },
    {
      "cell_type": "code",
      "metadata": {
        "id": "1xkq3xQbThMe",
        "colab": {
          "base_uri": "https://localhost:8080/"
        },
        "outputId": "0fe036b8-16f8-4036-893a-1fb87b060854"
      },
      "source": [
        "# Preprocessing level for recognizing clauses in formulas of CNForm and literals as variables\n",
        "\n",
        "def preprocess(input):\n",
        "  \"\"\" \n",
        "   The output is a tuple with three returns inside the first one a list of literals, the second one the tuple of cluases and\n",
        "   third one is the formula itself sympified\n",
        "  \"\"\"\n",
        "  input = sympify(input, evaluate=False)\n",
        "  literals = input.atoms()\n",
        "  clause = clauses(input)\n",
        "  return literals, clause, input \n",
        "## for CNFs only\n",
        "def clauses(input): \n",
        "  input = sympify(input, evaluate=False)\n",
        "  if not isinstance(input, And):\n",
        "      return input,\n",
        "  return sympify(input.args)\n",
        "\n",
        "print(clauses(input))\n",
        "print(type(clauses(input)))\n",
        "print(preprocess(input)[0])\n",
        "print(type(preprocess(input)[0]))\n",
        "print(type(preprocess(input)[1]))\n",
        "print(type(preprocess(input)[2]))"
      ],
      "execution_count": 169,
      "outputs": [
        {
          "output_type": "stream",
          "name": "stdout",
          "text": [
            "(~a, ~c, c | d, ~a | ~e, ~b | ~c)\n",
            "<class 'sympy.core.containers.Tuple'>\n",
            "{d, e, b, c, a}\n",
            "<class 'set'>\n",
            "<class 'sympy.core.containers.Tuple'>\n",
            "And\n"
          ]
        }
      ]
    },
    {
      "cell_type": "markdown",
      "source": [
        "# utilities"
      ],
      "metadata": {
        "id": "CUdJu7oKlGx_"
      }
    },
    {
      "cell_type": "code",
      "metadata": {
        "id": "U4K2-wQXMh2V"
      },
      "source": [
        "def decision(p = 0.5):\n",
        "    \"\"\"\n",
        "    returns a bool variable with probability of p being true\n",
        "    \"\"\"\n",
        "    return random.random() < p \n",
        "\n",
        "def randomDict(literals):\n",
        "    \"\"\"\n",
        "    Randomly assinginig true and false to literals of the input formula \n",
        "    returns dictionary \n",
        "    \"\"\"\n",
        "    baseDict = {}\n",
        "    for atom in literals:   # Randomly initilizing the self.literals to T and F\n",
        "        baseDict[atom] = random.choice([True, False])\n",
        "    return baseDict\n",
        "\n",
        "def unitprop(input, literal):\n",
        "  vars = list(preprocess(input)[0])\n",
        "  output = []\n",
        "  for var in vars:\n",
        "    if literal != var:\n",
        "      output.append(var)  \n",
        "  print(\"output:\", output)\n",
        "  return output\n",
        "  \n",
        "#vars = list(preprocess(input)[0])\n",
        "#print(\"vars: \", vars)\n",
        "#print(\"lit: \", lit)\n",
        "#unitprop(input, lit)"
      ],
      "execution_count": 170,
      "outputs": []
    },
    {
      "cell_type": "code",
      "source": [
        ""
      ],
      "metadata": {
        "id": "7UQ-qsR0HYLn"
      },
      "execution_count": 170,
      "outputs": []
    },
    {
      "cell_type": "markdown",
      "source": [
        "# ChooseVar Algorithm "
      ],
      "metadata": {
        "id": "7IHFymESlStg"
      }
    },
    {
      "cell_type": "code",
      "metadata": {
        "id": "u8xE1c0fMK21"
      },
      "source": [
        "#\"  (~a | b) & (~b | ~c) & (~c) & (~a) \"\n",
        "\n",
        "def ChooseVar(sT, clF, dict1):\n",
        "    clF = clF\n",
        "    cho1 = random.choice(list(clF))\n",
        "    sT = sT\n",
        "    dict2 = dict1\n",
        "    sT1 = set()\n",
        "    dict3 = dict2.copy()\n",
        "    dict4 = dict2.copy()\n",
        "    bvl = []\n",
        "    vars = list(preprocess(input)[0])\n",
        "    clauses1 = clauses(sT)\n",
        "    clauses1 = set(clauses1)\n",
        "    sat = []\n",
        "    clF =  set() \n",
        "    vltf = str()\n",
        "    clT = clauses1.copy()\n",
        "    clT = set(clT)\n",
        "    ##### Break value calculation\n",
        "    for lit in preprocess(cho1)[0]:\n",
        "        dict2[lit] = not dict2[lit]\n",
        "        dict1 = dict2\n",
        "        # The set that we put the clauses that are still false inside\n",
        "        for clause in clauses1:   \n",
        "            temp = clause\n",
        "            for key in dict1.keys():\n",
        "                if key in clause.atoms():\n",
        "                    clause = clause.subs({key: dict1[key]})\n",
        "                # Adding false clauses to the set\n",
        "                if not clause:\n",
        "                    clF.add(temp)\n",
        "                if temp in clF:\n",
        "                    clT.remove(temp)\n",
        "        bv = len(sT1) - len(clT)\n",
        "        bvl.append(max(0, bv))\n",
        "        dict3.update({lit: [not dict2[lit], max(0, bv)]})\n",
        "    # chooseVar \n",
        "    vltflst = []      # value to flip list \n",
        "    probability= 0.5  ##### q probability  \n",
        "    for key, value in dict3.items():\n",
        "        if not type(value) == bool :\n",
        "            if value[1] == 0 :          # if break value equal 0 chose the variable\n",
        "                vltflst.extend([key, value[1]])\n",
        "                vltf = key              # value to flip \n",
        "        else :\n",
        "            if decision(probability):               # with probability of q chose randomly between the vars in cho1\n",
        "                vltf = random.sample(preprocess(cho1)[0], 1)[0]\n",
        "            else:                                   # with probability 1-q chose the min of break values in among the literals\n",
        "                try:\n",
        "                    vltf = vltflst[vltflst.index(min(vltflst))-1]      \n",
        "                except ValueError:\n",
        "                    pass\n",
        "                except TypeError:\n",
        "                    pass\n",
        "    return vltf"
      ],
      "execution_count": 171,
      "outputs": []
    },
    {
      "cell_type": "markdown",
      "source": [
        "# Metropolis Algorithm"
      ],
      "metadata": {
        "id": "Ris_enzBlXWl"
      }
    },
    {
      "cell_type": "code",
      "metadata": {
        "id": "K8a9FPXDYQO-"
      },
      "source": [
        "\n",
        "def Metropolis(sT, dict1, T = 1):\n",
        "    t = T\n",
        "    sT = sT\n",
        "    vars = list(preprocess(input)[0])\n",
        "    dict1 = dict1\n",
        "    costl = []\n",
        "    #if len(dict1) == 0:\n",
        "    # Randomly initilizing the vars to T and F\n",
        "    dict1 = randomDict(vars)\n",
        "    #dict1[atom]= True  # for testing\n",
        "    dict2 = dict1.copy()\n",
        "    dict3 = dict2.copy()\n",
        "  #==============================================================================================================\n",
        "  ##### Cost calculation\n",
        "    clauses1 = clauses(sT)\n",
        "    clauses1 = set(clauses1)\n",
        "    sat = []\n",
        "    clF =  set() \n",
        "    clT = clauses1.copy()\n",
        "    vltf = str()\n",
        "    clauses1 = clauses(input)\n",
        "    clauses1 = set(clauses1)\n",
        "    clf =  set() \n",
        "    for lit in vars:\n",
        "        dict2[lit] = not dict2[lit]\n",
        "        dict1 = dict2    \n",
        "        dict1 = dict2.copy()\n",
        "        clt = clauses1.copy()\n",
        "        for clause in clauses1:   \n",
        "            temp = clause\n",
        "            #print(\"clause before: \", clause)\n",
        "            for key in dict1.keys():\n",
        "                if key in clause.atoms():\n",
        "                    clause = clause.subs({key: dict1[key]})\n",
        "            # Adding false clauses to the set\n",
        "                if not clause:\n",
        "                    clf.add(temp)\n",
        "            if temp in clf:\n",
        "                clt.remove(temp)\n",
        "        sT1 = clt\n",
        "        bv = len(sT) - len(sT1)\n",
        "        costl.append(bv)\n",
        "        #print(\"costl: \", costl)\n",
        "        dict3.update({lit: [not dict2[lit], bv]}) \n",
        "    #print(\"dict3: \",dict3)\n",
        "    ######==========================================================\n",
        "    vltf = random.choice(vars)\n",
        "    costVltf = dict3[vltf][1]\n",
        "    #print(\"costVltf: \", costVltf)\n",
        "    ex = expon.pdf(costVltf) / t\n",
        "    #print(\"expon.pdf(costVltf) / t: \", ex)\n",
        "    rand = random.random()\n",
        "    #print(\"rand: \", rand)\n",
        "    if costVltf <= 0:\n",
        "        return [vltf, True]\n",
        "    elif rand  < ex:\n",
        "        return [vltf , True]\n",
        "    else:\n",
        "        return [vltf , not vltf]\n",
        "\n",
        "\n",
        "\n"
      ],
      "execution_count": 172,
      "outputs": []
    },
    {
      "cell_type": "markdown",
      "source": [
        "# Sample Sat algorithm\n",
        "This algorithm combines random walk and metropolis moves. "
      ],
      "metadata": {
        "id": "jTX35Faclc2f"
      }
    },
    {
      "cell_type": "code",
      "metadata": {
        "id": "NBZJ_MPQYPMZ"
      },
      "source": [
        "def PRW(input, P = 0.5, T = 1):  # Returns the set of false clauses, set of truth clauses, the clause chosen at random from False cluases\n",
        "                  # Also returns formula is satisfied when there is no false clauses and the dict of assigned values to vars\n",
        "  p = P\n",
        "  t = T\n",
        "  vars = list(preprocess(input)[0])\n",
        "  clauses1 = clauses(input)\n",
        "  dict1 = {}\n",
        "  isat = 0\n",
        "  sat = []\n",
        "  dict1 = randomDict(vars)\n",
        "      #dict1[atom]= True  # for testing\n",
        "  #print(\"clauses1: \",clauses1)\n",
        "  clauses1 = list(clauses1)\n",
        "  clF =  set()     # The set that we put the clauses that are still false inside\n",
        "  clT = clauses1.copy()\n",
        "  vltf = str()\n",
        "  i0 =0\n",
        "  while i0 in range(0,1000):\n",
        "    #print(\"i0 : \", i0)\n",
        "    #print(\"dict1: \", dict1)\n",
        "    i0 += 1\n",
        "    if len(clF) != 0:\n",
        "      if vltf[0] in dict1 & vltf[1]:\n",
        "        dict1[vltf[0]] = not dict1[vltf[0]]\n",
        "    for clause in clauses1:   \n",
        "      temp = clause\n",
        "      #print(\"clause before: \", clause)\n",
        "      for key in dict1.keys():\n",
        "        clT = set(clT)\n",
        "        if key in clause.atoms():\n",
        "          clause = clause.subs({key: dict1[key]})\n",
        "          #print(\"clause after: \", clause)              # Adding false clauses to the set\n",
        "        if not clause:\n",
        "          clF.add(temp)\n",
        "      if temp in clF:\n",
        "        clT.remove(temp)\n",
        "    #print(\"clF: \", clF)\n",
        "    #print(\"clT: \", clT)\n",
        "    if len(clF) == 0:\n",
        "      sat.append(dict1)\n",
        "      #print(\"dict1: \", dict1)\n",
        "      #print(\"The formula is satisfied\") \n",
        "      break\n",
        "    if len(clF) != 0:\n",
        "      if decision(p):\n",
        "        vltf = ChooseVar(clT, clF, dict1)\n",
        "        #print(\"We are using chooseVar\")\n",
        "      else: \n",
        "        vltf = Metropolis(clT, dict1 , T = t)\n",
        "        #print(\"We are using Metropolis\")\n",
        "      clF = set()      # The set that we put the clauses that are still false inside\n",
        "      clT = clauses1.copy()\n",
        "  return clF, clT, 0, dict1, sat\n",
        "     \n",
        "\n",
        "\n",
        "#prw = PRW(input)\n",
        "#print(\"PRW: \",prw)\n",
        "#print(\"prw[1] :\",prw[1])\n",
        "#print(PRW(prw[1],prw[3]))"
      ],
      "execution_count": 173,
      "outputs": []
    },
    {
      "cell_type": "code",
      "metadata": {
        "id": "_4no8CuFfI6d"
      },
      "source": [
        ""
      ],
      "execution_count": 173,
      "outputs": []
    },
    {
      "cell_type": "markdown",
      "source": [
        "# ApproxCount Algorithm"
      ],
      "metadata": {
        "id": "iyk6DEe6mDal"
      }
    },
    {
      "cell_type": "code",
      "metadata": {
        "id": "jwUL6PxBLdWp",
        "colab": {
          "base_uri": "https://localhost:8080/"
        },
        "outputId": "7bca67c8-d6c5-4da2-994a-bc8cb43f2e78"
      },
      "source": [
        "## ApproxCount Algorithm\n",
        "k = 20\n",
        "nsat = []\n",
        "nsatSet = []\n",
        "inputSet = preprocess(input)\n",
        "#==============\n",
        "# constructiong solution space of\n",
        "for i in range(0,100):   # \n",
        "    anw = PRW(input)[3]\n",
        "    anw1 = anw.copy()\n",
        "    #print(\"anw: \", anw1)\n",
        "    #anw = prw[4]\n",
        "    nsat.append(anw1)\n",
        "    #print(\"nsat: \", nsat)\n",
        "    ##  Dropping duplicates in the nsat list \n",
        "    if anw1 not in nsatSet:   \n",
        "        nsatSet.append(anw1)\n",
        "    if len(nsatSet) == k:\n",
        "        break \n",
        "\n",
        "print(\"nsat: \", nsat)\n",
        "print(\"nsatSet: \", nsatSet, len(nsatSet))\n",
        "print(\"nsatSet: length: \", len(nsatSet))\n",
        "k = len(nsatSet)\n",
        "mx = []\n",
        "pickvarF = list(inputSet[0])\n",
        "print(\"pickvarF: \", pickvarF)\n",
        "\n",
        "for x in pickvarF:\n",
        "    print(\"x: \", x)\n",
        "    nf = 0.0\n",
        "    nt = 0.0\n",
        "    for sat in nsatSet:\n",
        "        print(\"sat: \", sat)\n",
        "        dic = sat\n",
        "        x1 = dic[x]\n",
        "        print(\"x1: \", x1)\n",
        "        if x1 == True:\n",
        "            nt += 1.0  \n",
        "        if x1 == False:\n",
        "            nf += 1.0 \n",
        "    if nt > nf:\n",
        "        ## unitprop F\n",
        "        #pickvarF = unitprop(pickvarF, x)\n",
        "        print(\"nt: \", nt)\n",
        "        temp = k/nt\n",
        "        mx.append(temp)\n",
        "        print(\"mxt:\", mx)\n",
        "    else:\n",
        "        ### unitprop F\n",
        "        #pickvarF = unitprop(pickvarF, x)\n",
        "        temp = k/nf\n",
        "        mx.append(temp)\n",
        "        print(\"mxf:\", mx)\n",
        "print(\"pickvarF: \", pickvarF)\n",
        "print(\"mx:\", mx)\n",
        "result = np.prod(mx) \n",
        "print(\"result:\", result)"
      ],
      "execution_count": 178,
      "outputs": [
        {
          "output_type": "stream",
          "name": "stdout",
          "text": [
            "nsat:  [{d: True, e: False, b: True, c: False, a: False}, {d: True, e: False, b: True, c: False, a: False}, {d: True, e: False, b: True, c: False, a: False}, {d: True, e: False, b: False, c: False, a: False}, {d: True, e: False, b: True, c: False, a: False}, {d: True, e: False, b: False, c: False, a: False}, {d: True, e: False, b: False, c: False, a: False}, {d: True, e: False, b: False, c: False, a: False}, {d: True, e: False, b: False, c: False, a: False}, {d: True, e: False, b: True, c: False, a: False}, {d: True, e: True, b: False, c: False, a: False}, {d: True, e: True, b: False, c: False, a: False}, {d: True, e: False, b: False, c: False, a: False}, {d: True, e: False, b: False, c: False, a: False}, {d: True, e: False, b: False, c: False, a: False}, {d: True, e: False, b: True, c: False, a: False}, {d: True, e: True, b: False, c: False, a: False}, {d: True, e: True, b: False, c: False, a: False}, {d: True, e: False, b: False, c: False, a: False}, {d: True, e: True, b: False, c: False, a: False}, {d: True, e: True, b: True, c: False, a: False}, {d: True, e: False, b: False, c: False, a: False}, {d: True, e: False, b: False, c: False, a: False}, {d: True, e: False, b: True, c: False, a: False}, {d: True, e: False, b: True, c: False, a: False}, {d: True, e: False, b: False, c: False, a: False}, {d: True, e: True, b: True, c: False, a: False}, {d: True, e: False, b: False, c: False, a: False}, {d: True, e: False, b: True, c: False, a: False}, {d: True, e: False, b: False, c: False, a: False}, {d: True, e: True, b: False, c: False, a: False}, {d: True, e: True, b: False, c: False, a: False}, {d: True, e: True, b: False, c: False, a: False}, {d: True, e: True, b: False, c: False, a: False}, {d: True, e: False, b: False, c: False, a: False}, {d: True, e: False, b: False, c: False, a: False}, {d: True, e: False, b: True, c: False, a: False}, {d: True, e: False, b: False, c: False, a: False}, {d: True, e: True, b: True, c: False, a: False}, {d: True, e: True, b: False, c: False, a: False}, {d: True, e: False, b: True, c: False, a: False}, {d: True, e: False, b: True, c: False, a: False}, {d: True, e: False, b: True, c: False, a: False}, {d: True, e: False, b: False, c: False, a: False}, {d: True, e: False, b: False, c: False, a: False}, {d: True, e: False, b: False, c: False, a: False}, {d: True, e: False, b: True, c: False, a: False}, {d: True, e: True, b: False, c: False, a: False}, {d: True, e: False, b: True, c: False, a: False}, {d: True, e: True, b: False, c: False, a: False}, {d: True, e: False, b: False, c: False, a: False}, {d: True, e: False, b: True, c: False, a: False}, {d: True, e: False, b: False, c: False, a: False}, {d: True, e: False, b: False, c: False, a: False}, {d: True, e: True, b: True, c: False, a: False}, {d: True, e: False, b: False, c: False, a: False}, {d: True, e: False, b: True, c: False, a: False}, {d: True, e: False, b: False, c: False, a: False}, {d: True, e: True, b: False, c: False, a: False}, {d: True, e: False, b: False, c: False, a: False}, {d: True, e: True, b: False, c: False, a: False}, {d: True, e: True, b: False, c: False, a: False}, {d: True, e: True, b: False, c: False, a: False}, {d: True, e: False, b: False, c: False, a: False}, {d: True, e: True, b: False, c: False, a: False}, {d: True, e: False, b: False, c: False, a: False}, {d: True, e: False, b: True, c: False, a: False}, {d: True, e: False, b: True, c: False, a: False}, {d: True, e: True, b: False, c: False, a: False}, {d: True, e: False, b: True, c: False, a: False}, {d: True, e: False, b: True, c: False, a: False}, {d: True, e: True, b: True, c: False, a: False}, {d: True, e: True, b: False, c: False, a: False}, {d: True, e: False, b: False, c: False, a: False}, {d: True, e: False, b: False, c: False, a: False}, {d: True, e: True, b: True, c: False, a: False}, {d: True, e: True, b: True, c: False, a: False}, {d: True, e: True, b: True, c: False, a: False}, {d: True, e: False, b: False, c: False, a: False}, {d: True, e: False, b: False, c: False, a: False}, {d: True, e: False, b: True, c: False, a: False}, {d: True, e: False, b: True, c: False, a: False}, {d: True, e: False, b: False, c: False, a: False}, {d: True, e: False, b: False, c: False, a: False}, {d: True, e: False, b: False, c: False, a: False}, {d: True, e: True, b: False, c: False, a: False}, {d: True, e: False, b: False, c: False, a: False}, {d: True, e: True, b: False, c: False, a: False}, {d: True, e: False, b: True, c: False, a: False}, {d: True, e: False, b: False, c: False, a: False}, {d: True, e: False, b: False, c: False, a: False}, {d: True, e: False, b: False, c: False, a: False}, {d: True, e: True, b: False, c: False, a: False}, {d: True, e: True, b: True, c: False, a: False}, {d: True, e: True, b: False, c: False, a: False}, {d: True, e: True, b: False, c: False, a: False}, {d: True, e: False, b: True, c: False, a: False}, {d: True, e: False, b: False, c: False, a: False}, {d: True, e: False, b: False, c: False, a: False}, {d: True, e: False, b: False, c: False, a: False}]\n",
            "nsatSet:  [{d: True, e: False, b: True, c: False, a: False}, {d: True, e: False, b: False, c: False, a: False}, {d: True, e: True, b: False, c: False, a: False}, {d: True, e: True, b: True, c: False, a: False}] 4\n",
            "nsatSet: length:  4\n",
            "pickvarF:  [d, e, b, c, a]\n",
            "x:  d\n",
            "sat:  {d: True, e: False, b: True, c: False, a: False}\n",
            "x1:  True\n",
            "sat:  {d: True, e: False, b: False, c: False, a: False}\n",
            "x1:  True\n",
            "sat:  {d: True, e: True, b: False, c: False, a: False}\n",
            "x1:  True\n",
            "sat:  {d: True, e: True, b: True, c: False, a: False}\n",
            "x1:  True\n",
            "nt:  4.0\n",
            "mxt: [1.0]\n",
            "x:  e\n",
            "sat:  {d: True, e: False, b: True, c: False, a: False}\n",
            "x1:  False\n",
            "sat:  {d: True, e: False, b: False, c: False, a: False}\n",
            "x1:  False\n",
            "sat:  {d: True, e: True, b: False, c: False, a: False}\n",
            "x1:  True\n",
            "sat:  {d: True, e: True, b: True, c: False, a: False}\n",
            "x1:  True\n",
            "mxf: [1.0, 2.0]\n",
            "x:  b\n",
            "sat:  {d: True, e: False, b: True, c: False, a: False}\n",
            "x1:  True\n",
            "sat:  {d: True, e: False, b: False, c: False, a: False}\n",
            "x1:  False\n",
            "sat:  {d: True, e: True, b: False, c: False, a: False}\n",
            "x1:  False\n",
            "sat:  {d: True, e: True, b: True, c: False, a: False}\n",
            "x1:  True\n",
            "mxf: [1.0, 2.0, 2.0]\n",
            "x:  c\n",
            "sat:  {d: True, e: False, b: True, c: False, a: False}\n",
            "x1:  False\n",
            "sat:  {d: True, e: False, b: False, c: False, a: False}\n",
            "x1:  False\n",
            "sat:  {d: True, e: True, b: False, c: False, a: False}\n",
            "x1:  False\n",
            "sat:  {d: True, e: True, b: True, c: False, a: False}\n",
            "x1:  False\n",
            "mxf: [1.0, 2.0, 2.0, 1.0]\n",
            "x:  a\n",
            "sat:  {d: True, e: False, b: True, c: False, a: False}\n",
            "x1:  False\n",
            "sat:  {d: True, e: False, b: False, c: False, a: False}\n",
            "x1:  False\n",
            "sat:  {d: True, e: True, b: False, c: False, a: False}\n",
            "x1:  False\n",
            "sat:  {d: True, e: True, b: True, c: False, a: False}\n",
            "x1:  False\n",
            "mxf: [1.0, 2.0, 2.0, 1.0, 1.0]\n",
            "pickvarF:  [d, e, b, c, a]\n",
            "mx: [1.0, 2.0, 2.0, 1.0, 1.0]\n",
            "result: 4.0\n"
          ]
        }
      ]
    },
    {
      "cell_type": "markdown",
      "metadata": {
        "id": "9_-XiVrW22iZ"
      },
      "source": [
        "list of websites that I used: \n",
        "\n",
        "https://docs.sympy.org/latest/modules/logic.html\n",
        "\n",
        "https://docs.sympy.org/latest/modules/logic.html#simplification-and-equivalence-testing\n",
        "\n",
        "https://docs.sympy.org/latest/modules/parsing.html\n",
        "\n",
        "https://docs.sympy.org/latest/modules/core.html\n",
        "\n",
        "https://docs.python.org/3.7/tutorial/errors.html#tut-handling\n",
        "\n",
        "https://www.w3schools.com/python/python_howto_remove_duplicates.asp\n"
      ]
    }
  ]
}